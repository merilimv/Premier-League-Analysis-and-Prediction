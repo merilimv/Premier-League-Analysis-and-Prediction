{
 "cells": [
  {
   "cell_type": "code",
   "execution_count": 1,
   "id": "cec720a2",
   "metadata": {},
   "outputs": [],
   "source": [
    "import pandas as pd\n",
    "import numpy as np"
   ]
  },
  {
   "cell_type": "code",
   "execution_count": 2,
   "id": "ffe018df",
   "metadata": {},
   "outputs": [],
   "source": [
    "def season_to_date(data):\n",
    "    return np.int64(data[:2] + data[5:8])\n",
    "    # eles fazem temporadas no formato 2000-01, no entanto só desejo saber um dos, como o outro padronizou como \n",
    "    # o ano final então manterei isso para a consistência dos dados"
   ]
  },
  {
   "cell_type": "code",
   "execution_count": 3,
   "id": "f7be87b4",
   "metadata": {},
   "outputs": [],
   "source": [
    "loc = \"./Premier-League/\"\n",
    "EPL = pd.read_csv(loc + \"EPLStandindsOriginal.csv\")\n",
    "EPLold = pd.read_csv(loc + \"EPLStandindsOld.csv\")\n",
    "\n",
    "EPL = EPL[[\"Season\", \"Pos\", \"Team\"]]\n",
    "EPL[\"Season\"] = EPL[\"Season\"].apply(season_to_date)\n",
    "EPL[\"Pos\"] = EPL[\"Pos\"]\n",
    "print(EPL[\"Season\"].unique())"
   ]
  },
  {
   "cell_type": "code",
   "execution_count": 4,
   "id": "2929da78",
   "metadata": {},
   "outputs": [],
   "source": [
    "df_result = pd.DataFrame()\n",
    "df = EPL.copy()\n",
    "\n",
    "df_result.index = df[\"Team\"].unique()\n",
    "\n",
    "# Agrupar os dados pelo time e criar as colunas para cada temporada com as respectivas posições\n",
    "for season, group in df.groupby('Season'):\n",
    "    df_result[season] = group.set_index('Team')['Pos']\n",
    "    \n",
    "# Reordenar as colunas em ordem crescente de temporada\n",
    "print(df_result.shape)\n",
    "df_result = df_result.reindex(sorted(df_result.columns), axis=1)\n",
    "df_result = df_result.reset_index()\n",
    "\n",
    "colunas_numericas = np.array(df_result.columns)[1:]\n",
    "\n",
    "# df_result[colunas_numericas] = df_result[colunas_numericas].astype(\"int64\")\n",
    "\n",
    "colunas = df_result.columns[1:]\n",
    "new_columns = {col: str(col) for col in colunas}\n",
    "df_result = df_result.rename(columns=new_columns)\n",
    "\n",
    "df_result = df_result.rename(columns={'index': 'Team2'})\n",
    "df_result.columns"
   ]
  },
  {
   "cell_type": "code",
   "execution_count": 5,
   "id": "332d1076",
   "metadata": {},
   "outputs": [],
   "source": [
    "EPLold\n",
    "# Preciso dar o Merge para pegar o ano de 1999-2000 que é utilizado\n",
    "# Como os nomes podem ser diferentes e o nome do EPLold já tá padronizado com os nomes dos datasets\n",
    "# Eu resolvi manter esses nomes e fazer o Merge checando as classificações\n",
    "EPLold = EPLold.drop(EPLold.loc[EPLold[\"Team\"] == \"Wimbledon\"].index)\n",
    "EPLold = EPLold.drop(EPLold.loc[EPLold[\"Team\"] == \"Middlesboro\"].index)\n",
    "\n",
    "colunas = EPLold.columns[2:]\n",
    "colunas = colunas.tolist()\n",
    "\n",
    "EPLold.loc[EPLold[\"Team\"] == \"Fulham\", \"2007\"] = 16.0\n",
    "EPLold.loc[EPLold[\"Team\"] == \"Tottenham\", \"2004\"] = 14.0\n",
    "EPLold.loc[EPLold[\"Team\"] == \"Wigan\", \"2007\"] = 17.0\n",
    "EPLold.loc[EPLold[\"Team\"] == \"Reading\", \"2015\"] = np.nan\n",
    "EPLold.loc[EPLold[\"Team\"] == \"QPR\", \"2015\"] = 20.0\n",
    "\n",
    "# Aproveitei e corrigi alguns erros de posições que tinham no EPLold\n",
    "# Confirmei esses erros com pesquisa então o EPLatual realmente estava correto\n",
    "\n",
    "result = pd.merge(EPLold, df_result, on=colunas, how='outer')\n",
    "# Aqueles times com a mesmas classificações de 2001 a 2016 se tornam um\n",
    "\n",
    "result.loc[result[\"Team2\"] == \"Brighton & Hove Albion\", \"Team\"] = \"Brighton & Hove Albion\"\n",
    "result.loc[result[\"Team2\"] == \"Huddersfield Town\", \"Team\"] = \"Huddersfield Town\"\n",
    "result.loc[result[\"Team2\"] == \"Brentford\", \"Team\"] = \"Brentford\"\n",
    "# Padronizando alguns nomes que aparecerem apenas depois de 2016, ou seja não aparecem em EPLold\n",
    "\n",
    "result  = result.drop(\"Team2\", axis = 1)\n",
    "result = result.sort_values(by=\"Team\").reset_index(drop = True)"
   ]
  },
  {
   "cell_type": "code",
   "execution_count": 6,
   "id": "5c4e1dd1",
   "metadata": {},
   "outputs": [],
   "source": [
    "result.to_csv(loc + \"EPLStandindsFinal.csv\", index=False)"
   ]
  }
 ],
 "metadata": {
  "kernelspec": {
   "display_name": "Python 3 (ipykernel)",
   "language": "python",
   "name": "python3"
  },
  "language_info": {
   "codemirror_mode": {
    "name": "ipython",
    "version": 3
   },
   "file_extension": ".py",
   "mimetype": "text/x-python",
   "name": "python",
   "nbconvert_exporter": "python",
   "pygments_lexer": "ipython3",
   "version": "3.10.6"
  }
 },
 "nbformat": 4,
 "nbformat_minor": 5
}
